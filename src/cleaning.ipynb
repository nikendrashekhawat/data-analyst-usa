{
 "cells": [
  {
   "cell_type": "code",
   "execution_count": 1,
   "metadata": {},
   "outputs": [],
   "source": [
    "from pathlib import Path\n",
    "import ast\n",
    "import numpy as np\n",
    "import pandas as pd\n",
    "import ast\n",
    "from utils.tools import (\n",
    "    get_word_tokens,\n",
    "    get_technical_tokens, \n",
    "    get_softskills_tokens,\n",
    "    get_educational_tokens\n",
    ")\n"
   ]
  },
  {
   "cell_type": "code",
   "execution_count": 2,
   "metadata": {},
   "outputs": [],
   "source": [
    "data_path = Path(\"gsearch_jobs.csv\")"
   ]
  },
  {
   "cell_type": "code",
   "execution_count": 3,
   "metadata": {},
   "outputs": [],
   "source": [
    "raw_data = pd.read_csv(data_path, index_col=0,)"
   ]
  },
  {
   "cell_type": "code",
   "execution_count": 4,
   "metadata": {},
   "outputs": [],
   "source": [
    "data = raw_data.copy()"
   ]
  },
  {
   "cell_type": "code",
   "execution_count": 5,
   "metadata": {},
   "outputs": [
    {
     "name": "stdout",
     "output_type": "stream",
     "text": [
      "<class 'pandas.core.frame.DataFrame'>\n",
      "Index: 54261 entries, 0 to 54260\n",
      "Data columns (total 26 columns):\n",
      " #   Column               Non-Null Count  Dtype  \n",
      "---  ------               --------------  -----  \n",
      " 0   index                54261 non-null  int64  \n",
      " 1   title                54261 non-null  object \n",
      " 2   company_name         54261 non-null  object \n",
      " 3   location             54224 non-null  object \n",
      " 4   via                  54252 non-null  object \n",
      " 5   description          54261 non-null  object \n",
      " 6   extensions           54261 non-null  object \n",
      " 7   job_id               54261 non-null  object \n",
      " 8   thumbnail            34147 non-null  object \n",
      " 9   posted_at            54224 non-null  object \n",
      " 10  schedule_type        54031 non-null  object \n",
      " 11  work_from_home       25651 non-null  object \n",
      " 12  salary               9299 non-null   object \n",
      " 13  search_term          54261 non-null  object \n",
      " 14  date_time            54261 non-null  object \n",
      " 15  search_location      54261 non-null  object \n",
      " 16  commute_time         0 non-null      float64\n",
      " 17  salary_pay           9299 non-null   object \n",
      " 18  salary_rate          9299 non-null   object \n",
      " 19  salary_avg           9299 non-null   float64\n",
      " 20  salary_min           8744 non-null   float64\n",
      " 21  salary_max           8744 non-null   float64\n",
      " 22  salary_hourly        5655 non-null   float64\n",
      " 23  salary_yearly        3610 non-null   float64\n",
      " 24  salary_standardized  9299 non-null   float64\n",
      " 25  description_tokens   54261 non-null  object \n",
      "dtypes: float64(7), int64(1), object(18)\n",
      "memory usage: 11.2+ MB\n"
     ]
    }
   ],
   "source": [
    "data.info()"
   ]
  },
  {
   "cell_type": "code",
   "execution_count": 6,
   "metadata": {},
   "outputs": [],
   "source": [
    "drop_cols = [\"index\", \"thumbnail\", \"posted_at\", \"job_id\", \"search_term\", \"commute_time\", \"search_location\", \"description_tokens\"]"
   ]
  },
  {
   "cell_type": "code",
   "execution_count": 7,
   "metadata": {},
   "outputs": [],
   "source": [
    "data = data.drop(drop_cols, axis=1)"
   ]
  },
  {
   "cell_type": "code",
   "execution_count": 8,
   "metadata": {},
   "outputs": [],
   "source": [
    "ext = data[\"extensions\"].str.split(pat=\",\",expand=True)"
   ]
  },
  {
   "cell_type": "code",
   "execution_count": 9,
   "metadata": {},
   "outputs": [
    {
     "data": {
      "text/plain": [
       "3        [['12 hours ago',  '15–25 an hour',  'Work fro...\n",
       "6        [['17 hours ago',  'Work from home',  'Full-ti...\n",
       "13       [['7 hours ago',  'Full-time',  'No degree men...\n",
       "16       [['12 hours ago',  'Full-time',  'No degree me...\n",
       "19       [['17 hours ago',  'Work from home',  'Contrac...\n",
       "                               ...                        \n",
       "54217    [['21 hours ago',  'Full-time',  'No degree me...\n",
       "54218    [['21 hours ago',  'Full-time',  'No degree me...\n",
       "54245    [['22 hours ago',  'Full-time',  'No degree me...\n",
       "54254    [['23 hours ago',  'Full-time',  'No degree me...\n",
       "54255    [['23 hours ago',  'Full-time',  'No degree me...\n",
       "Name: extensions, Length: 16569, dtype: object"
      ]
     },
     "execution_count": 9,
     "metadata": {},
     "output_type": "execute_result"
    }
   ],
   "source": [
    "data[data[\"extensions\"].str.contains(pat=\"No degree mentioned\", case=False, regex=False)][\"extensions\"].str.split(pat=\",\")"
   ]
  },
  {
   "cell_type": "code",
   "execution_count": 10,
   "metadata": {},
   "outputs": [
    {
     "data": {
      "text/plain": [
       "np.int64(3386)"
      ]
     },
     "execution_count": 10,
     "metadata": {},
     "output_type": "execute_result"
    }
   ],
   "source": [
    "data[\"extensions\"].str.split(\",\").apply(lambda ls: len(ls)).argmax()"
   ]
  },
  {
   "cell_type": "code",
   "execution_count": 11,
   "metadata": {},
   "outputs": [
    {
     "data": {
      "text/plain": [
       "0        [['15 hours ago,  '101K–143K a year,  'Work fr...\n",
       "1        [['12 hours ago,  'Full-time,  'Health insuran...\n",
       "2                          [['18 hours ago,  'Full-time']]\n",
       "3        [['12 hours ago,  '15–25 an hour,  'Work from ...\n",
       "4        [['7 hours ago,  '90K–110K a year,  'Contracto...\n",
       "                               ...                        \n",
       "54256    [['23 hours ago,  '76,798–130,764 a year,  'Fu...\n",
       "54257    [['23 hours ago,  '106,916–182,047 a year,  'F...\n",
       "54258    [['23 hours ago,  '106,916–182,047 a year,  'F...\n",
       "54259    [['23 hours ago,  '106,916–182,047 a year,  'F...\n",
       "54260    [['24 hours ago,  '105,850–158,780 a year,  'F...\n",
       "Name: extensions, Length: 54261, dtype: object"
      ]
     },
     "execution_count": 11,
     "metadata": {},
     "output_type": "execute_result"
    }
   ],
   "source": [
    "data[\"extensions\"].str.split(\"',\")"
   ]
  },
  {
   "cell_type": "code",
   "execution_count": 12,
   "metadata": {},
   "outputs": [],
   "source": [
    "ext = data[\"extensions\"].apply(lambda row: ast.literal_eval(row))"
   ]
  },
  {
   "cell_type": "code",
   "execution_count": 13,
   "metadata": {},
   "outputs": [],
   "source": [
    "def get_first_element(lst):\n",
    "    if len(lst) <= 1:\n",
    "        return pd.NA\n",
    "    else:\n",
    "        return lst[1]"
   ]
  },
  {
   "cell_type": "code",
   "execution_count": 14,
   "metadata": {},
   "outputs": [
    {
     "data": {
      "text/plain": [
       "786       [8 hours ago]\n",
       "884       [6 hours ago]\n",
       "885       [6 hours ago]\n",
       "1628     [22 hours ago]\n",
       "1668     [24 hours ago]\n",
       "              ...      \n",
       "52785    [17 hours ago]\n",
       "52786    [17 hours ago]\n",
       "52787    [17 hours ago]\n",
       "52788    [17 hours ago]\n",
       "54174    [18 hours ago]\n",
       "Name: extensions, Length: 102, dtype: object"
      ]
     },
     "execution_count": 14,
     "metadata": {},
     "output_type": "execute_result"
    }
   ],
   "source": [
    "ext[ext.apply(get_first_element).isna()]"
   ]
  },
  {
   "cell_type": "code",
   "execution_count": 15,
   "metadata": {},
   "outputs": [
    {
     "data": {
      "text/plain": [
       "np.int64(44962)"
      ]
     },
     "execution_count": 15,
     "metadata": {},
     "output_type": "execute_result"
    }
   ],
   "source": [
    "data[\"salary\"].isna().sum()"
   ]
  },
  {
   "cell_type": "code",
   "execution_count": 16,
   "metadata": {},
   "outputs": [
    {
     "name": "stdout",
     "output_type": "stream",
     "text": [
      "<class 'pandas.core.frame.DataFrame'>\n",
      "Index: 54261 entries, 0 to 54260\n",
      "Data columns (total 18 columns):\n",
      " #   Column               Non-Null Count  Dtype  \n",
      "---  ------               --------------  -----  \n",
      " 0   title                54261 non-null  object \n",
      " 1   company_name         54261 non-null  object \n",
      " 2   location             54224 non-null  object \n",
      " 3   via                  54252 non-null  object \n",
      " 4   description          54261 non-null  object \n",
      " 5   extensions           54261 non-null  object \n",
      " 6   schedule_type        54031 non-null  object \n",
      " 7   work_from_home       25651 non-null  object \n",
      " 8   salary               9299 non-null   object \n",
      " 9   date_time            54261 non-null  object \n",
      " 10  salary_pay           9299 non-null   object \n",
      " 11  salary_rate          9299 non-null   object \n",
      " 12  salary_avg           9299 non-null   float64\n",
      " 13  salary_min           8744 non-null   float64\n",
      " 14  salary_max           8744 non-null   float64\n",
      " 15  salary_hourly        5655 non-null   float64\n",
      " 16  salary_yearly        3610 non-null   float64\n",
      " 17  salary_standardized  9299 non-null   float64\n",
      "dtypes: float64(6), object(12)\n",
      "memory usage: 7.9+ MB\n"
     ]
    }
   ],
   "source": [
    "data.info()"
   ]
  },
  {
   "cell_type": "code",
   "execution_count": 17,
   "metadata": {},
   "outputs": [],
   "source": [
    "data[\"description_tokens\"] = data[\"description\"].apply(get_word_tokens)"
   ]
  },
  {
   "cell_type": "code",
   "execution_count": 18,
   "metadata": {},
   "outputs": [],
   "source": [
    "data[\"technical_tokens\"] = data[\"description_tokens\"].apply(get_technical_tokens)\n",
    "data[\"softskills_tokens\"] = data[\"description_tokens\"].apply(get_softskills_tokens)\n",
    "data[\"education_tokens\"] = data[\"description_tokens\"].apply(get_educational_tokens)"
   ]
  },
  {
   "cell_type": "code",
   "execution_count": 19,
   "metadata": {},
   "outputs": [],
   "source": [
    "series = data[\"technical_tokens\"].head()"
   ]
  },
  {
   "cell_type": "code",
   "execution_count": 20,
   "metadata": {},
   "outputs": [],
   "source": [
    "def count_tokens(series) -> pd.DataFrame:\n",
    "    series = series.dropna()\n",
    "    \n",
    "    arr = np.concatenate(series.values)\n",
    "    \n",
    "    unique_tokens, counts = np.unique(arr, return_counts=True)\n",
    "    \n",
    "    stacked_arr = np.column_stack((unique_tokens, counts))\n",
    "    \n",
    "    return pd.DataFrame(stacked_arr, columns=[\"tokens\", \"count\"])\n",
    "    "
   ]
  },
  {
   "cell_type": "code",
   "execution_count": 21,
   "metadata": {},
   "outputs": [],
   "source": [
    "tech = count_tokens(data[\"technical_tokens\"])"
   ]
  },
  {
   "cell_type": "code",
   "execution_count": 22,
   "metadata": {},
   "outputs": [],
   "source": [
    "tech[\"tokens\"] = tech[\"tokens\"].str.capitalize()"
   ]
  },
  {
   "cell_type": "code",
   "execution_count": 23,
   "metadata": {},
   "outputs": [],
   "source": [
    "tech[\"count\"] = tech[\"count\"].astype(\"int64\")"
   ]
  },
  {
   "cell_type": "code",
   "execution_count": 24,
   "metadata": {},
   "outputs": [],
   "source": [
    "total = len(data)"
   ]
  },
  {
   "cell_type": "code",
   "execution_count": 25,
   "metadata": {},
   "outputs": [],
   "source": [
    "tech[\"percent\"] = (tech[\"count\"] / total * 100).round(2)"
   ]
  },
  {
   "cell_type": "code",
   "execution_count": 33,
   "metadata": {},
   "outputs": [
    {
     "data": {
      "text/html": [
       "<div>\n",
       "<style scoped>\n",
       "    .dataframe tbody tr th:only-of-type {\n",
       "        vertical-align: middle;\n",
       "    }\n",
       "\n",
       "    .dataframe tbody tr th {\n",
       "        vertical-align: top;\n",
       "    }\n",
       "\n",
       "    .dataframe thead th {\n",
       "        text-align: right;\n",
       "    }\n",
       "</style>\n",
       "<table border=\"1\" class=\"dataframe\">\n",
       "  <thead>\n",
       "    <tr style=\"text-align: right;\">\n",
       "      <th></th>\n",
       "      <th>tokens</th>\n",
       "      <th>count</th>\n",
       "      <th>percent</th>\n",
       "    </tr>\n",
       "  </thead>\n",
       "  <tbody>\n",
       "    <tr>\n",
       "      <th>201</th>\n",
       "      <td>Sql</td>\n",
       "      <td>28076</td>\n",
       "      <td>51.74</td>\n",
       "    </tr>\n",
       "    <tr>\n",
       "      <th>93</th>\n",
       "      <td>Excel</td>\n",
       "      <td>18057</td>\n",
       "      <td>33.28</td>\n",
       "    </tr>\n",
       "    <tr>\n",
       "      <th>177</th>\n",
       "      <td>Python</td>\n",
       "      <td>17288</td>\n",
       "      <td>31.86</td>\n",
       "    </tr>\n",
       "    <tr>\n",
       "      <th>213</th>\n",
       "      <td>Tableau</td>\n",
       "      <td>15445</td>\n",
       "      <td>28.46</td>\n",
       "    </tr>\n",
       "    <tr>\n",
       "      <th>207</th>\n",
       "      <td>Statistics</td>\n",
       "      <td>13439</td>\n",
       "      <td>24.77</td>\n",
       "    </tr>\n",
       "    <tr>\n",
       "      <th>50</th>\n",
       "      <td>Dashboards</td>\n",
       "      <td>13210</td>\n",
       "      <td>24.35</td>\n",
       "    </tr>\n",
       "    <tr>\n",
       "      <th>180</th>\n",
       "      <td>R</td>\n",
       "      <td>11373</td>\n",
       "      <td>20.96</td>\n",
       "    </tr>\n",
       "    <tr>\n",
       "      <th>167</th>\n",
       "      <td>Power bi</td>\n",
       "      <td>10953</td>\n",
       "      <td>20.19</td>\n",
       "    </tr>\n",
       "    <tr>\n",
       "      <th>75</th>\n",
       "      <td>Data visualization</td>\n",
       "      <td>10809</td>\n",
       "      <td>19.92</td>\n",
       "    </tr>\n",
       "    <tr>\n",
       "      <th>133</th>\n",
       "      <td>Machine learning</td>\n",
       "      <td>5808</td>\n",
       "      <td>10.70</td>\n",
       "    </tr>\n",
       "    <tr>\n",
       "      <th>204</th>\n",
       "      <td>Statistical analysis</td>\n",
       "      <td>5276</td>\n",
       "      <td>9.72</td>\n",
       "    </tr>\n",
       "    <tr>\n",
       "      <th>66</th>\n",
       "      <td>Data modeling</td>\n",
       "      <td>5131</td>\n",
       "      <td>9.46</td>\n",
       "    </tr>\n",
       "    <tr>\n",
       "      <th>90</th>\n",
       "      <td>Etl</td>\n",
       "      <td>4738</td>\n",
       "      <td>8.73</td>\n",
       "    </tr>\n",
       "    <tr>\n",
       "      <th>65</th>\n",
       "      <td>Data mining</td>\n",
       "      <td>4677</td>\n",
       "      <td>8.62</td>\n",
       "    </tr>\n",
       "    <tr>\n",
       "      <th>3</th>\n",
       "      <td>Agile</td>\n",
       "      <td>4537</td>\n",
       "      <td>8.36</td>\n",
       "    </tr>\n",
       "    <tr>\n",
       "      <th>168</th>\n",
       "      <td>Powerpoint</td>\n",
       "      <td>4044</td>\n",
       "      <td>7.45</td>\n",
       "    </tr>\n",
       "    <tr>\n",
       "      <th>76</th>\n",
       "      <td>Data warehouse</td>\n",
       "      <td>3950</td>\n",
       "      <td>7.28</td>\n",
       "    </tr>\n",
       "    <tr>\n",
       "      <th>157</th>\n",
       "      <td>Oracle</td>\n",
       "      <td>3941</td>\n",
       "      <td>7.26</td>\n",
       "    </tr>\n",
       "    <tr>\n",
       "      <th>124</th>\n",
       "      <td>Kpis</td>\n",
       "      <td>3920</td>\n",
       "      <td>7.22</td>\n",
       "    </tr>\n",
       "    <tr>\n",
       "      <th>15</th>\n",
       "      <td>Azure</td>\n",
       "      <td>3659</td>\n",
       "      <td>6.74</td>\n",
       "    </tr>\n",
       "  </tbody>\n",
       "</table>\n",
       "</div>"
      ],
      "text/plain": [
       "                   tokens  count  percent\n",
       "201                   Sql  28076    51.74\n",
       "93                  Excel  18057    33.28\n",
       "177                Python  17288    31.86\n",
       "213               Tableau  15445    28.46\n",
       "207            Statistics  13439    24.77\n",
       "50             Dashboards  13210    24.35\n",
       "180                     R  11373    20.96\n",
       "167              Power bi  10953    20.19\n",
       "75     Data visualization  10809    19.92\n",
       "133      Machine learning   5808    10.70\n",
       "204  Statistical analysis   5276     9.72\n",
       "66          Data modeling   5131     9.46\n",
       "90                    Etl   4738     8.73\n",
       "65            Data mining   4677     8.62\n",
       "3                   Agile   4537     8.36\n",
       "168            Powerpoint   4044     7.45\n",
       "76         Data warehouse   3950     7.28\n",
       "157                Oracle   3941     7.26\n",
       "124                  Kpis   3920     7.22\n",
       "15                  Azure   3659     6.74"
      ]
     },
     "execution_count": 33,
     "metadata": {},
     "output_type": "execute_result"
    }
   ],
   "source": [
    "tech.sort_values(\"percent\", ascending=False).head(20)"
   ]
  },
  {
   "cell_type": "code",
   "execution_count": 27,
   "metadata": {},
   "outputs": [],
   "source": [
    "soft = count_tokens(data[\"softskills_tokens\"])"
   ]
  },
  {
   "cell_type": "code",
   "execution_count": 28,
   "metadata": {},
   "outputs": [],
   "source": [
    "soft[\"count\"] = soft[\"count\"].astype(\"int64\")"
   ]
  },
  {
   "cell_type": "code",
   "execution_count": 31,
   "metadata": {},
   "outputs": [
    {
     "data": {
      "text/html": [
       "<div>\n",
       "<style scoped>\n",
       "    .dataframe tbody tr th:only-of-type {\n",
       "        vertical-align: middle;\n",
       "    }\n",
       "\n",
       "    .dataframe tbody tr th {\n",
       "        vertical-align: top;\n",
       "    }\n",
       "\n",
       "    .dataframe thead th {\n",
       "        text-align: right;\n",
       "    }\n",
       "</style>\n",
       "<table border=\"1\" class=\"dataframe\">\n",
       "  <thead>\n",
       "    <tr style=\"text-align: right;\">\n",
       "      <th></th>\n",
       "      <th>tokens</th>\n",
       "      <th>count</th>\n",
       "    </tr>\n",
       "  </thead>\n",
       "  <tbody>\n",
       "    <tr>\n",
       "      <th>14</th>\n",
       "      <td>communication skills</td>\n",
       "      <td>15358</td>\n",
       "    </tr>\n",
       "    <tr>\n",
       "      <th>49</th>\n",
       "      <td>problem solving</td>\n",
       "      <td>12065</td>\n",
       "    </tr>\n",
       "    <tr>\n",
       "      <th>40</th>\n",
       "      <td>leadership</td>\n",
       "      <td>11991</td>\n",
       "    </tr>\n",
       "    <tr>\n",
       "      <th>29</th>\n",
       "      <td>decision making</td>\n",
       "      <td>9241</td>\n",
       "    </tr>\n",
       "    <tr>\n",
       "      <th>8</th>\n",
       "      <td>business intelligence</td>\n",
       "      <td>9190</td>\n",
       "    </tr>\n",
       "    <tr>\n",
       "      <th>31</th>\n",
       "      <td>documentation</td>\n",
       "      <td>8580</td>\n",
       "    </tr>\n",
       "    <tr>\n",
       "      <th>5</th>\n",
       "      <td>attention to detail</td>\n",
       "      <td>7878</td>\n",
       "    </tr>\n",
       "    <tr>\n",
       "      <th>13</th>\n",
       "      <td>collaboration</td>\n",
       "      <td>7860</td>\n",
       "    </tr>\n",
       "    <tr>\n",
       "      <th>24</th>\n",
       "      <td>data management</td>\n",
       "      <td>7564</td>\n",
       "    </tr>\n",
       "    <tr>\n",
       "      <th>48</th>\n",
       "      <td>presentation</td>\n",
       "      <td>6742</td>\n",
       "    </tr>\n",
       "    <tr>\n",
       "      <th>36</th>\n",
       "      <td>innovation</td>\n",
       "      <td>6255</td>\n",
       "    </tr>\n",
       "    <tr>\n",
       "      <th>3</th>\n",
       "      <td>analytical skills</td>\n",
       "      <td>5918</td>\n",
       "    </tr>\n",
       "    <tr>\n",
       "      <th>50</th>\n",
       "      <td>project management</td>\n",
       "      <td>5524</td>\n",
       "    </tr>\n",
       "    <tr>\n",
       "      <th>34</th>\n",
       "      <td>flexibility</td>\n",
       "      <td>4920</td>\n",
       "    </tr>\n",
       "    <tr>\n",
       "      <th>22</th>\n",
       "      <td>data governance</td>\n",
       "      <td>4364</td>\n",
       "    </tr>\n",
       "  </tbody>\n",
       "</table>\n",
       "</div>"
      ],
      "text/plain": [
       "                   tokens  count\n",
       "14   communication skills  15358\n",
       "49        problem solving  12065\n",
       "40             leadership  11991\n",
       "29        decision making   9241\n",
       "8   business intelligence   9190\n",
       "31          documentation   8580\n",
       "5     attention to detail   7878\n",
       "13          collaboration   7860\n",
       "24        data management   7564\n",
       "48           presentation   6742\n",
       "36             innovation   6255\n",
       "3       analytical skills   5918\n",
       "50     project management   5524\n",
       "34            flexibility   4920\n",
       "22        data governance   4364"
      ]
     },
     "execution_count": 31,
     "metadata": {},
     "output_type": "execute_result"
    }
   ],
   "source": [
    "soft.sort_values(\"count\", ascending=False).head(15)"
   ]
  },
  {
   "cell_type": "code",
   "execution_count": 30,
   "metadata": {},
   "outputs": [
    {
     "data": {
      "text/plain": [
       "pandas._libs.missing.NAType"
      ]
     },
     "execution_count": 30,
     "metadata": {},
     "output_type": "execute_result"
    }
   ],
   "source": [
    "type(pd.NA)"
   ]
  },
  {
   "cell_type": "code",
   "execution_count": 38,
   "metadata": {},
   "outputs": [],
   "source": [
    "ed = count_tokens(data[\"education_tokens\"])"
   ]
  },
  {
   "cell_type": "code",
   "execution_count": 40,
   "metadata": {},
   "outputs": [
    {
     "data": {
      "text/html": [
       "<div>\n",
       "<style scoped>\n",
       "    .dataframe tbody tr th:only-of-type {\n",
       "        vertical-align: middle;\n",
       "    }\n",
       "\n",
       "    .dataframe tbody tr th {\n",
       "        vertical-align: top;\n",
       "    }\n",
       "\n",
       "    .dataframe thead th {\n",
       "        text-align: right;\n",
       "    }\n",
       "</style>\n",
       "<table border=\"1\" class=\"dataframe\">\n",
       "  <thead>\n",
       "    <tr style=\"text-align: right;\">\n",
       "      <th></th>\n",
       "      <th>tokens</th>\n",
       "      <th>count</th>\n",
       "    </tr>\n",
       "  </thead>\n",
       "  <tbody>\n",
       "    <tr>\n",
       "      <th>0</th>\n",
       "      <td>accredited university</td>\n",
       "      <td>274</td>\n",
       "    </tr>\n",
       "    <tr>\n",
       "      <th>1</th>\n",
       "      <td>advanced degree</td>\n",
       "      <td>1930</td>\n",
       "    </tr>\n",
       "    <tr>\n",
       "      <th>2</th>\n",
       "      <td>b a degree</td>\n",
       "      <td>16</td>\n",
       "    </tr>\n",
       "    <tr>\n",
       "      <th>3</th>\n",
       "      <td>b s degree</td>\n",
       "      <td>68</td>\n",
       "    </tr>\n",
       "    <tr>\n",
       "      <th>4</th>\n",
       "      <td>ba degree</td>\n",
       "      <td>312</td>\n",
       "    </tr>\n",
       "    <tr>\n",
       "      <th>5</th>\n",
       "      <td>bachelor</td>\n",
       "      <td>16516</td>\n",
       "    </tr>\n",
       "    <tr>\n",
       "      <th>6</th>\n",
       "      <td>bachelor degree</td>\n",
       "      <td>349</td>\n",
       "    </tr>\n",
       "    <tr>\n",
       "      <th>7</th>\n",
       "      <td>bachelors</td>\n",
       "      <td>740</td>\n",
       "    </tr>\n",
       "    <tr>\n",
       "      <th>8</th>\n",
       "      <td>bachelors degree</td>\n",
       "      <td>1256</td>\n",
       "    </tr>\n",
       "    <tr>\n",
       "      <th>9</th>\n",
       "      <td>bs degree</td>\n",
       "      <td>927</td>\n",
       "    </tr>\n",
       "    <tr>\n",
       "      <th>10</th>\n",
       "      <td>certification</td>\n",
       "      <td>3443</td>\n",
       "    </tr>\n",
       "    <tr>\n",
       "      <th>11</th>\n",
       "      <td>computer science</td>\n",
       "      <td>13652</td>\n",
       "    </tr>\n",
       "    <tr>\n",
       "      <th>12</th>\n",
       "      <td>diploma</td>\n",
       "      <td>1781</td>\n",
       "    </tr>\n",
       "    <tr>\n",
       "      <th>13</th>\n",
       "      <td>doctorate</td>\n",
       "      <td>146</td>\n",
       "    </tr>\n",
       "    <tr>\n",
       "      <th>14</th>\n",
       "      <td>information technology</td>\n",
       "      <td>4574</td>\n",
       "    </tr>\n",
       "    <tr>\n",
       "      <th>15</th>\n",
       "      <td>master</td>\n",
       "      <td>7345</td>\n",
       "    </tr>\n",
       "    <tr>\n",
       "      <th>16</th>\n",
       "      <td>master degree</td>\n",
       "      <td>69</td>\n",
       "    </tr>\n",
       "    <tr>\n",
       "      <th>17</th>\n",
       "      <td>masters</td>\n",
       "      <td>892</td>\n",
       "    </tr>\n",
       "    <tr>\n",
       "      <th>18</th>\n",
       "      <td>masters degree</td>\n",
       "      <td>495</td>\n",
       "    </tr>\n",
       "    <tr>\n",
       "      <th>19</th>\n",
       "      <td>phd</td>\n",
       "      <td>1071</td>\n",
       "    </tr>\n",
       "    <tr>\n",
       "      <th>20</th>\n",
       "      <td>postgraduate</td>\n",
       "      <td>36</td>\n",
       "    </tr>\n",
       "    <tr>\n",
       "      <th>21</th>\n",
       "      <td>professional certificate</td>\n",
       "      <td>8</td>\n",
       "    </tr>\n",
       "    <tr>\n",
       "      <th>22</th>\n",
       "      <td>technical degree</td>\n",
       "      <td>104</td>\n",
       "    </tr>\n",
       "  </tbody>\n",
       "</table>\n",
       "</div>"
      ],
      "text/plain": [
       "                      tokens  count\n",
       "0      accredited university    274\n",
       "1            advanced degree   1930\n",
       "2                 b a degree     16\n",
       "3                 b s degree     68\n",
       "4                  ba degree    312\n",
       "5                   bachelor  16516\n",
       "6            bachelor degree    349\n",
       "7                  bachelors    740\n",
       "8           bachelors degree   1256\n",
       "9                  bs degree    927\n",
       "10             certification   3443\n",
       "11          computer science  13652\n",
       "12                   diploma   1781\n",
       "13                 doctorate    146\n",
       "14    information technology   4574\n",
       "15                    master   7345\n",
       "16             master degree     69\n",
       "17                   masters    892\n",
       "18            masters degree    495\n",
       "19                       phd   1071\n",
       "20              postgraduate     36\n",
       "21  professional certificate      8\n",
       "22          technical degree    104"
      ]
     },
     "execution_count": 40,
     "metadata": {},
     "output_type": "execute_result"
    }
   ],
   "source": [
    "ed"
   ]
  },
  {
   "cell_type": "code",
   "execution_count": 45,
   "metadata": {},
   "outputs": [
    {
     "data": {
      "text/plain": [
       "['arr_0', 'arr_1', 'arr_2']"
      ]
     },
     "execution_count": 45,
     "metadata": {},
     "output_type": "execute_result"
    }
   ],
   "source": [
    "a = [0,1,3]\n",
    "[\"arr_\" + str(i) for i in range(len(a))]"
   ]
  }
 ],
 "metadata": {
  "kernelspec": {
   "display_name": "data-analyst-usa",
   "language": "python",
   "name": "python3"
  },
  "language_info": {
   "codemirror_mode": {
    "name": "ipython",
    "version": 3
   },
   "file_extension": ".py",
   "mimetype": "text/x-python",
   "name": "python",
   "nbconvert_exporter": "python",
   "pygments_lexer": "ipython3",
   "version": "3.12.5"
  }
 },
 "nbformat": 4,
 "nbformat_minor": 4
}
